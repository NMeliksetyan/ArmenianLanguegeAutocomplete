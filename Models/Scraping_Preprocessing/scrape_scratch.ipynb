{
 "cells": [
  {
   "cell_type": "code",
   "execution_count": 8,
   "metadata": {},
   "outputs": [],
   "source": [
    "import requests\n",
    "from bs4 import BeautifulSoup\n",
    "import random\n",
    "import re\n",
    "from tqdm import tqdm\n",
    "import time\n",
    "\n",
    "hy_url = 'https://hy.wikipedia.org/wiki/Special:Random'\n",
    "\n",
    "\n",
    "corpus = []\n",
    "mem = set()\n",
    "def Text_Cleaning(text):\n",
    "    clean_text = re.sub(\"([\\(\\[\\«]).*?([\\)\\]\\»])\", \"\\g<1>\\g<2>\", text)\n",
    "    clean_text = re.sub(\"[\\(\\[\\«].*?[\\)\\]\\»]\", \" \", clean_text)\n",
    "    clean_text = clean_text.replace('²',' քառակուսի')\n",
    "    clean_text = clean_text.replace('³',' խորանարդ')\n",
    "    clean_text = re.sub(\"[^\\u0561-\\u0587\\u0531-\\u0556\\ ։]+\",' ',clean_text)\n",
    " #   clean_text = re.sub(r'\\b[\\u0561-\\u0587\\u0531-\\u0556{1-3}]\\b',' ',clean_text)\n",
    "   # reduntant_words = [\"են\",\"էլ\",\"սա\",\"ոչ\",\"մի\",\"կա\",\"է\",\"եմ\",\"ես\",\"որ\",\"ոք\",\"ով\",\"օր\",\"ու\",\"և\",\"ուր\",\"ում\"]\n",
    "    clean_text = re.sub(' +', ' ', clean_text)\n",
    "    return \" \".join([w for w in clean_text.split(\" \") if len(w)>2])\n"
   ]
  },
  {
   "cell_type": "code",
   "execution_count": 9,
   "metadata": {},
   "outputs": [],
   "source": [
    "token = \"\"\n",
    "opt_treshold = 1.3"
   ]
  },
  {
   "cell_type": "code",
   "execution_count": 11,
   "metadata": {},
   "outputs": [
    {
     "name": "stderr",
     "output_type": "stream",
     "text": [
      " 11%|█         | 22/200 [00:31<04:18,  1.45s/it]\n"
     ]
    },
    {
     "ename": "KeyboardInterrupt",
     "evalue": "",
     "output_type": "error",
     "traceback": [
      "\u001b[0;31m---------------------------------------------------------------------------\u001b[0m",
      "\u001b[0;31mKeyboardInterrupt\u001b[0m                         Traceback (most recent call last)",
      "\u001b[1;32m/home/lazydog/Documents/Research/Transformer_autocomplete/Models/scrape_scratch.ipynb Cell 3'\u001b[0m in \u001b[0;36m<cell line: 1>\u001b[0;34m()\u001b[0m\n\u001b[1;32m      <a href='vscode-notebook-cell:/home/lazydog/Documents/Research/Transformer_autocomplete/Models/scrape_scratch.ipynb#ch0000002?line=0'>1</a>\u001b[0m \u001b[39mfor\u001b[39;00m _ \u001b[39min\u001b[39;00m tqdm(\u001b[39mrange\u001b[39m(\u001b[39m200\u001b[39m)):\n\u001b[0;32m----> <a href='vscode-notebook-cell:/home/lazydog/Documents/Research/Transformer_autocomplete/Models/scrape_scratch.ipynb#ch0000002?line=2'>3</a>\u001b[0m     response \u001b[39m=\u001b[39m requests\u001b[39m.\u001b[39;49mget(url \u001b[39m=\u001b[39;49m hy_url)\n\u001b[1;32m      <a href='vscode-notebook-cell:/home/lazydog/Documents/Research/Transformer_autocomplete/Models/scrape_scratch.ipynb#ch0000002?line=3'>4</a>\u001b[0m     cur_url \u001b[39m=\u001b[39m response\u001b[39m.\u001b[39murl\n\u001b[1;32m      <a href='vscode-notebook-cell:/home/lazydog/Documents/Research/Transformer_autocomplete/Models/scrape_scratch.ipynb#ch0000002?line=4'>5</a>\u001b[0m     \u001b[39mif\u001b[39;00m cur_url \u001b[39min\u001b[39;00m mem:\n",
      "File \u001b[0;32m/usr/lib/python3/dist-packages/requests/api.py:75\u001b[0m, in \u001b[0;36mget\u001b[0;34m(url, params, **kwargs)\u001b[0m\n\u001b[1;32m     <a href='file:///usr/lib/python3/dist-packages/requests/api.py?line=63'>64</a>\u001b[0m \u001b[39mr\u001b[39m\u001b[39m\"\"\"Sends a GET request.\u001b[39;00m\n\u001b[1;32m     <a href='file:///usr/lib/python3/dist-packages/requests/api.py?line=64'>65</a>\u001b[0m \n\u001b[1;32m     <a href='file:///usr/lib/python3/dist-packages/requests/api.py?line=65'>66</a>\u001b[0m \u001b[39m:param url: URL for the new :class:`Request` object.\u001b[39;00m\n\u001b[0;32m   (...)\u001b[0m\n\u001b[1;32m     <a href='file:///usr/lib/python3/dist-packages/requests/api.py?line=70'>71</a>\u001b[0m \u001b[39m:rtype: requests.Response\u001b[39;00m\n\u001b[1;32m     <a href='file:///usr/lib/python3/dist-packages/requests/api.py?line=71'>72</a>\u001b[0m \u001b[39m\"\"\"\u001b[39;00m\n\u001b[1;32m     <a href='file:///usr/lib/python3/dist-packages/requests/api.py?line=73'>74</a>\u001b[0m kwargs\u001b[39m.\u001b[39msetdefault(\u001b[39m'\u001b[39m\u001b[39mallow_redirects\u001b[39m\u001b[39m'\u001b[39m, \u001b[39mTrue\u001b[39;00m)\n\u001b[0;32m---> <a href='file:///usr/lib/python3/dist-packages/requests/api.py?line=74'>75</a>\u001b[0m \u001b[39mreturn\u001b[39;00m request(\u001b[39m'\u001b[39;49m\u001b[39mget\u001b[39;49m\u001b[39m'\u001b[39;49m, url, params\u001b[39m=\u001b[39;49mparams, \u001b[39m*\u001b[39;49m\u001b[39m*\u001b[39;49mkwargs)\n",
      "File \u001b[0;32m/usr/lib/python3/dist-packages/requests/api.py:60\u001b[0m, in \u001b[0;36mrequest\u001b[0;34m(method, url, **kwargs)\u001b[0m\n\u001b[1;32m     <a href='file:///usr/lib/python3/dist-packages/requests/api.py?line=55'>56</a>\u001b[0m \u001b[39m# By using the 'with' statement we are sure the session is closed, thus we\u001b[39;00m\n\u001b[1;32m     <a href='file:///usr/lib/python3/dist-packages/requests/api.py?line=56'>57</a>\u001b[0m \u001b[39m# avoid leaving sockets open which can trigger a ResourceWarning in some\u001b[39;00m\n\u001b[1;32m     <a href='file:///usr/lib/python3/dist-packages/requests/api.py?line=57'>58</a>\u001b[0m \u001b[39m# cases, and look like a memory leak in others.\u001b[39;00m\n\u001b[1;32m     <a href='file:///usr/lib/python3/dist-packages/requests/api.py?line=58'>59</a>\u001b[0m \u001b[39mwith\u001b[39;00m sessions\u001b[39m.\u001b[39mSession() \u001b[39mas\u001b[39;00m session:\n\u001b[0;32m---> <a href='file:///usr/lib/python3/dist-packages/requests/api.py?line=59'>60</a>\u001b[0m     \u001b[39mreturn\u001b[39;00m session\u001b[39m.\u001b[39;49mrequest(method\u001b[39m=\u001b[39;49mmethod, url\u001b[39m=\u001b[39;49murl, \u001b[39m*\u001b[39;49m\u001b[39m*\u001b[39;49mkwargs)\n",
      "File \u001b[0;32m/usr/lib/python3/dist-packages/requests/sessions.py:533\u001b[0m, in \u001b[0;36mSession.request\u001b[0;34m(self, method, url, params, data, headers, cookies, files, auth, timeout, allow_redirects, proxies, hooks, stream, verify, cert, json)\u001b[0m\n\u001b[1;32m    <a href='file:///usr/lib/python3/dist-packages/requests/sessions.py?line=527'>528</a>\u001b[0m send_kwargs \u001b[39m=\u001b[39m {\n\u001b[1;32m    <a href='file:///usr/lib/python3/dist-packages/requests/sessions.py?line=528'>529</a>\u001b[0m     \u001b[39m'\u001b[39m\u001b[39mtimeout\u001b[39m\u001b[39m'\u001b[39m: timeout,\n\u001b[1;32m    <a href='file:///usr/lib/python3/dist-packages/requests/sessions.py?line=529'>530</a>\u001b[0m     \u001b[39m'\u001b[39m\u001b[39mallow_redirects\u001b[39m\u001b[39m'\u001b[39m: allow_redirects,\n\u001b[1;32m    <a href='file:///usr/lib/python3/dist-packages/requests/sessions.py?line=530'>531</a>\u001b[0m }\n\u001b[1;32m    <a href='file:///usr/lib/python3/dist-packages/requests/sessions.py?line=531'>532</a>\u001b[0m send_kwargs\u001b[39m.\u001b[39mupdate(settings)\n\u001b[0;32m--> <a href='file:///usr/lib/python3/dist-packages/requests/sessions.py?line=532'>533</a>\u001b[0m resp \u001b[39m=\u001b[39m \u001b[39mself\u001b[39;49m\u001b[39m.\u001b[39;49msend(prep, \u001b[39m*\u001b[39;49m\u001b[39m*\u001b[39;49msend_kwargs)\n\u001b[1;32m    <a href='file:///usr/lib/python3/dist-packages/requests/sessions.py?line=534'>535</a>\u001b[0m \u001b[39mreturn\u001b[39;00m resp\n",
      "File \u001b[0;32m/usr/lib/python3/dist-packages/requests/sessions.py:668\u001b[0m, in \u001b[0;36mSession.send\u001b[0;34m(self, request, **kwargs)\u001b[0m\n\u001b[1;32m    <a href='file:///usr/lib/python3/dist-packages/requests/sessions.py?line=664'>665</a>\u001b[0m gen \u001b[39m=\u001b[39m \u001b[39mself\u001b[39m\u001b[39m.\u001b[39mresolve_redirects(r, request, \u001b[39m*\u001b[39m\u001b[39m*\u001b[39mkwargs)\n\u001b[1;32m    <a href='file:///usr/lib/python3/dist-packages/requests/sessions.py?line=666'>667</a>\u001b[0m \u001b[39m# Resolve redirects if allowed.\u001b[39;00m\n\u001b[0;32m--> <a href='file:///usr/lib/python3/dist-packages/requests/sessions.py?line=667'>668</a>\u001b[0m history \u001b[39m=\u001b[39m [resp \u001b[39mfor\u001b[39;00m resp \u001b[39min\u001b[39;00m gen] \u001b[39mif\u001b[39;00m allow_redirects \u001b[39melse\u001b[39;00m []\n\u001b[1;32m    <a href='file:///usr/lib/python3/dist-packages/requests/sessions.py?line=669'>670</a>\u001b[0m \u001b[39m# Shuffle things around if there's history.\u001b[39;00m\n\u001b[1;32m    <a href='file:///usr/lib/python3/dist-packages/requests/sessions.py?line=670'>671</a>\u001b[0m \u001b[39mif\u001b[39;00m history:\n\u001b[1;32m    <a href='file:///usr/lib/python3/dist-packages/requests/sessions.py?line=671'>672</a>\u001b[0m     \u001b[39m# Insert the first (original) request at the start\u001b[39;00m\n",
      "File \u001b[0;32m/usr/lib/python3/dist-packages/requests/sessions.py:668\u001b[0m, in \u001b[0;36m<listcomp>\u001b[0;34m(.0)\u001b[0m\n\u001b[1;32m    <a href='file:///usr/lib/python3/dist-packages/requests/sessions.py?line=664'>665</a>\u001b[0m gen \u001b[39m=\u001b[39m \u001b[39mself\u001b[39m\u001b[39m.\u001b[39mresolve_redirects(r, request, \u001b[39m*\u001b[39m\u001b[39m*\u001b[39mkwargs)\n\u001b[1;32m    <a href='file:///usr/lib/python3/dist-packages/requests/sessions.py?line=666'>667</a>\u001b[0m \u001b[39m# Resolve redirects if allowed.\u001b[39;00m\n\u001b[0;32m--> <a href='file:///usr/lib/python3/dist-packages/requests/sessions.py?line=667'>668</a>\u001b[0m history \u001b[39m=\u001b[39m [resp \u001b[39mfor\u001b[39;00m resp \u001b[39min\u001b[39;00m gen] \u001b[39mif\u001b[39;00m allow_redirects \u001b[39melse\u001b[39;00m []\n\u001b[1;32m    <a href='file:///usr/lib/python3/dist-packages/requests/sessions.py?line=669'>670</a>\u001b[0m \u001b[39m# Shuffle things around if there's history.\u001b[39;00m\n\u001b[1;32m    <a href='file:///usr/lib/python3/dist-packages/requests/sessions.py?line=670'>671</a>\u001b[0m \u001b[39mif\u001b[39;00m history:\n\u001b[1;32m    <a href='file:///usr/lib/python3/dist-packages/requests/sessions.py?line=671'>672</a>\u001b[0m     \u001b[39m# Insert the first (original) request at the start\u001b[39;00m\n",
      "File \u001b[0;32m/usr/lib/python3/dist-packages/requests/sessions.py:239\u001b[0m, in \u001b[0;36mSessionRedirectMixin.resolve_redirects\u001b[0;34m(self, resp, req, stream, timeout, verify, cert, proxies, yield_requests, **adapter_kwargs)\u001b[0m\n\u001b[1;32m    <a href='file:///usr/lib/python3/dist-packages/requests/sessions.py?line=235'>236</a>\u001b[0m     \u001b[39myield\u001b[39;00m req\n\u001b[1;32m    <a href='file:///usr/lib/python3/dist-packages/requests/sessions.py?line=236'>237</a>\u001b[0m \u001b[39melse\u001b[39;00m:\n\u001b[0;32m--> <a href='file:///usr/lib/python3/dist-packages/requests/sessions.py?line=238'>239</a>\u001b[0m     resp \u001b[39m=\u001b[39m \u001b[39mself\u001b[39;49m\u001b[39m.\u001b[39;49msend(\n\u001b[1;32m    <a href='file:///usr/lib/python3/dist-packages/requests/sessions.py?line=239'>240</a>\u001b[0m         req,\n\u001b[1;32m    <a href='file:///usr/lib/python3/dist-packages/requests/sessions.py?line=240'>241</a>\u001b[0m         stream\u001b[39m=\u001b[39;49mstream,\n\u001b[1;32m    <a href='file:///usr/lib/python3/dist-packages/requests/sessions.py?line=241'>242</a>\u001b[0m         timeout\u001b[39m=\u001b[39;49mtimeout,\n\u001b[1;32m    <a href='file:///usr/lib/python3/dist-packages/requests/sessions.py?line=242'>243</a>\u001b[0m         verify\u001b[39m=\u001b[39;49mverify,\n\u001b[1;32m    <a href='file:///usr/lib/python3/dist-packages/requests/sessions.py?line=243'>244</a>\u001b[0m         cert\u001b[39m=\u001b[39;49mcert,\n\u001b[1;32m    <a href='file:///usr/lib/python3/dist-packages/requests/sessions.py?line=244'>245</a>\u001b[0m         proxies\u001b[39m=\u001b[39;49mproxies,\n\u001b[1;32m    <a href='file:///usr/lib/python3/dist-packages/requests/sessions.py?line=245'>246</a>\u001b[0m         allow_redirects\u001b[39m=\u001b[39;49m\u001b[39mFalse\u001b[39;49;00m,\n\u001b[1;32m    <a href='file:///usr/lib/python3/dist-packages/requests/sessions.py?line=246'>247</a>\u001b[0m         \u001b[39m*\u001b[39;49m\u001b[39m*\u001b[39;49madapter_kwargs\n\u001b[1;32m    <a href='file:///usr/lib/python3/dist-packages/requests/sessions.py?line=247'>248</a>\u001b[0m     )\n\u001b[1;32m    <a href='file:///usr/lib/python3/dist-packages/requests/sessions.py?line=249'>250</a>\u001b[0m     extract_cookies_to_jar(\u001b[39mself\u001b[39m\u001b[39m.\u001b[39mcookies, prepared_request, resp\u001b[39m.\u001b[39mraw)\n\u001b[1;32m    <a href='file:///usr/lib/python3/dist-packages/requests/sessions.py?line=251'>252</a>\u001b[0m     \u001b[39m# extract redirect url, if any, for the next loop\u001b[39;00m\n",
      "File \u001b[0;32m/usr/lib/python3/dist-packages/requests/sessions.py:646\u001b[0m, in \u001b[0;36mSession.send\u001b[0;34m(self, request, **kwargs)\u001b[0m\n\u001b[1;32m    <a href='file:///usr/lib/python3/dist-packages/requests/sessions.py?line=642'>643</a>\u001b[0m start \u001b[39m=\u001b[39m preferred_clock()\n\u001b[1;32m    <a href='file:///usr/lib/python3/dist-packages/requests/sessions.py?line=644'>645</a>\u001b[0m \u001b[39m# Send the request\u001b[39;00m\n\u001b[0;32m--> <a href='file:///usr/lib/python3/dist-packages/requests/sessions.py?line=645'>646</a>\u001b[0m r \u001b[39m=\u001b[39m adapter\u001b[39m.\u001b[39;49msend(request, \u001b[39m*\u001b[39;49m\u001b[39m*\u001b[39;49mkwargs)\n\u001b[1;32m    <a href='file:///usr/lib/python3/dist-packages/requests/sessions.py?line=647'>648</a>\u001b[0m \u001b[39m# Total elapsed time of the request (approximately)\u001b[39;00m\n\u001b[1;32m    <a href='file:///usr/lib/python3/dist-packages/requests/sessions.py?line=648'>649</a>\u001b[0m elapsed \u001b[39m=\u001b[39m preferred_clock() \u001b[39m-\u001b[39m start\n",
      "File \u001b[0;32m/usr/lib/python3/dist-packages/requests/adapters.py:439\u001b[0m, in \u001b[0;36mHTTPAdapter.send\u001b[0;34m(self, request, stream, timeout, verify, cert, proxies)\u001b[0m\n\u001b[1;32m    <a href='file:///usr/lib/python3/dist-packages/requests/adapters.py?line=436'>437</a>\u001b[0m \u001b[39mtry\u001b[39;00m:\n\u001b[1;32m    <a href='file:///usr/lib/python3/dist-packages/requests/adapters.py?line=437'>438</a>\u001b[0m     \u001b[39mif\u001b[39;00m \u001b[39mnot\u001b[39;00m chunked:\n\u001b[0;32m--> <a href='file:///usr/lib/python3/dist-packages/requests/adapters.py?line=438'>439</a>\u001b[0m         resp \u001b[39m=\u001b[39m conn\u001b[39m.\u001b[39;49murlopen(\n\u001b[1;32m    <a href='file:///usr/lib/python3/dist-packages/requests/adapters.py?line=439'>440</a>\u001b[0m             method\u001b[39m=\u001b[39;49mrequest\u001b[39m.\u001b[39;49mmethod,\n\u001b[1;32m    <a href='file:///usr/lib/python3/dist-packages/requests/adapters.py?line=440'>441</a>\u001b[0m             url\u001b[39m=\u001b[39;49murl,\n\u001b[1;32m    <a href='file:///usr/lib/python3/dist-packages/requests/adapters.py?line=441'>442</a>\u001b[0m             body\u001b[39m=\u001b[39;49mrequest\u001b[39m.\u001b[39;49mbody,\n\u001b[1;32m    <a href='file:///usr/lib/python3/dist-packages/requests/adapters.py?line=442'>443</a>\u001b[0m             headers\u001b[39m=\u001b[39;49mrequest\u001b[39m.\u001b[39;49mheaders,\n\u001b[1;32m    <a href='file:///usr/lib/python3/dist-packages/requests/adapters.py?line=443'>444</a>\u001b[0m             redirect\u001b[39m=\u001b[39;49m\u001b[39mFalse\u001b[39;49;00m,\n\u001b[1;32m    <a href='file:///usr/lib/python3/dist-packages/requests/adapters.py?line=444'>445</a>\u001b[0m             assert_same_host\u001b[39m=\u001b[39;49m\u001b[39mFalse\u001b[39;49;00m,\n\u001b[1;32m    <a href='file:///usr/lib/python3/dist-packages/requests/adapters.py?line=445'>446</a>\u001b[0m             preload_content\u001b[39m=\u001b[39;49m\u001b[39mFalse\u001b[39;49;00m,\n\u001b[1;32m    <a href='file:///usr/lib/python3/dist-packages/requests/adapters.py?line=446'>447</a>\u001b[0m             decode_content\u001b[39m=\u001b[39;49m\u001b[39mFalse\u001b[39;49;00m,\n\u001b[1;32m    <a href='file:///usr/lib/python3/dist-packages/requests/adapters.py?line=447'>448</a>\u001b[0m             retries\u001b[39m=\u001b[39;49m\u001b[39mself\u001b[39;49m\u001b[39m.\u001b[39;49mmax_retries,\n\u001b[1;32m    <a href='file:///usr/lib/python3/dist-packages/requests/adapters.py?line=448'>449</a>\u001b[0m             timeout\u001b[39m=\u001b[39;49mtimeout\n\u001b[1;32m    <a href='file:///usr/lib/python3/dist-packages/requests/adapters.py?line=449'>450</a>\u001b[0m         )\n\u001b[1;32m    <a href='file:///usr/lib/python3/dist-packages/requests/adapters.py?line=451'>452</a>\u001b[0m     \u001b[39m# Send the request.\u001b[39;00m\n\u001b[1;32m    <a href='file:///usr/lib/python3/dist-packages/requests/adapters.py?line=452'>453</a>\u001b[0m     \u001b[39melse\u001b[39;00m:\n\u001b[1;32m    <a href='file:///usr/lib/python3/dist-packages/requests/adapters.py?line=453'>454</a>\u001b[0m         \u001b[39mif\u001b[39;00m \u001b[39mhasattr\u001b[39m(conn, \u001b[39m'\u001b[39m\u001b[39mproxy_pool\u001b[39m\u001b[39m'\u001b[39m):\n",
      "File \u001b[0;32m/usr/lib/python3/dist-packages/urllib3/connectionpool.py:665\u001b[0m, in \u001b[0;36mHTTPConnectionPool.urlopen\u001b[0;34m(self, method, url, body, headers, retries, redirect, assert_same_host, timeout, pool_timeout, release_conn, chunked, body_pos, **response_kw)\u001b[0m\n\u001b[1;32m    <a href='file:///usr/lib/python3/dist-packages/urllib3/connectionpool.py?line=661'>662</a>\u001b[0m     \u001b[39mself\u001b[39m\u001b[39m.\u001b[39m_prepare_proxy(conn)\n\u001b[1;32m    <a href='file:///usr/lib/python3/dist-packages/urllib3/connectionpool.py?line=663'>664</a>\u001b[0m \u001b[39m# Make the request on the httplib connection object.\u001b[39;00m\n\u001b[0;32m--> <a href='file:///usr/lib/python3/dist-packages/urllib3/connectionpool.py?line=664'>665</a>\u001b[0m httplib_response \u001b[39m=\u001b[39m \u001b[39mself\u001b[39;49m\u001b[39m.\u001b[39;49m_make_request(\n\u001b[1;32m    <a href='file:///usr/lib/python3/dist-packages/urllib3/connectionpool.py?line=665'>666</a>\u001b[0m     conn,\n\u001b[1;32m    <a href='file:///usr/lib/python3/dist-packages/urllib3/connectionpool.py?line=666'>667</a>\u001b[0m     method,\n\u001b[1;32m    <a href='file:///usr/lib/python3/dist-packages/urllib3/connectionpool.py?line=667'>668</a>\u001b[0m     url,\n\u001b[1;32m    <a href='file:///usr/lib/python3/dist-packages/urllib3/connectionpool.py?line=668'>669</a>\u001b[0m     timeout\u001b[39m=\u001b[39;49mtimeout_obj,\n\u001b[1;32m    <a href='file:///usr/lib/python3/dist-packages/urllib3/connectionpool.py?line=669'>670</a>\u001b[0m     body\u001b[39m=\u001b[39;49mbody,\n\u001b[1;32m    <a href='file:///usr/lib/python3/dist-packages/urllib3/connectionpool.py?line=670'>671</a>\u001b[0m     headers\u001b[39m=\u001b[39;49mheaders,\n\u001b[1;32m    <a href='file:///usr/lib/python3/dist-packages/urllib3/connectionpool.py?line=671'>672</a>\u001b[0m     chunked\u001b[39m=\u001b[39;49mchunked,\n\u001b[1;32m    <a href='file:///usr/lib/python3/dist-packages/urllib3/connectionpool.py?line=672'>673</a>\u001b[0m )\n\u001b[1;32m    <a href='file:///usr/lib/python3/dist-packages/urllib3/connectionpool.py?line=674'>675</a>\u001b[0m \u001b[39m# If we're going to release the connection in ``finally:``, then\u001b[39;00m\n\u001b[1;32m    <a href='file:///usr/lib/python3/dist-packages/urllib3/connectionpool.py?line=675'>676</a>\u001b[0m \u001b[39m# the response doesn't need to know about the connection. Otherwise\u001b[39;00m\n\u001b[1;32m    <a href='file:///usr/lib/python3/dist-packages/urllib3/connectionpool.py?line=676'>677</a>\u001b[0m \u001b[39m# it will also try to release it and we'll have a double-release\u001b[39;00m\n\u001b[1;32m    <a href='file:///usr/lib/python3/dist-packages/urllib3/connectionpool.py?line=677'>678</a>\u001b[0m \u001b[39m# mess.\u001b[39;00m\n\u001b[1;32m    <a href='file:///usr/lib/python3/dist-packages/urllib3/connectionpool.py?line=678'>679</a>\u001b[0m response_conn \u001b[39m=\u001b[39m conn \u001b[39mif\u001b[39;00m \u001b[39mnot\u001b[39;00m release_conn \u001b[39melse\u001b[39;00m \u001b[39mNone\u001b[39;00m\n",
      "File \u001b[0;32m/usr/lib/python3/dist-packages/urllib3/connectionpool.py:421\u001b[0m, in \u001b[0;36mHTTPConnectionPool._make_request\u001b[0;34m(self, conn, method, url, timeout, chunked, **httplib_request_kw)\u001b[0m\n\u001b[1;32m    <a href='file:///usr/lib/python3/dist-packages/urllib3/connectionpool.py?line=415'>416</a>\u001b[0m             httplib_response \u001b[39m=\u001b[39m conn\u001b[39m.\u001b[39mgetresponse()\n\u001b[1;32m    <a href='file:///usr/lib/python3/dist-packages/urllib3/connectionpool.py?line=416'>417</a>\u001b[0m         \u001b[39mexcept\u001b[39;00m \u001b[39mBaseException\u001b[39;00m \u001b[39mas\u001b[39;00m e:\n\u001b[1;32m    <a href='file:///usr/lib/python3/dist-packages/urllib3/connectionpool.py?line=417'>418</a>\u001b[0m             \u001b[39m# Remove the TypeError from the exception chain in\u001b[39;00m\n\u001b[1;32m    <a href='file:///usr/lib/python3/dist-packages/urllib3/connectionpool.py?line=418'>419</a>\u001b[0m             \u001b[39m# Python 3 (including for exceptions like SystemExit).\u001b[39;00m\n\u001b[1;32m    <a href='file:///usr/lib/python3/dist-packages/urllib3/connectionpool.py?line=419'>420</a>\u001b[0m             \u001b[39m# Otherwise it looks like a bug in the code.\u001b[39;00m\n\u001b[0;32m--> <a href='file:///usr/lib/python3/dist-packages/urllib3/connectionpool.py?line=420'>421</a>\u001b[0m             six\u001b[39m.\u001b[39;49mraise_from(e, \u001b[39mNone\u001b[39;49;00m)\n\u001b[1;32m    <a href='file:///usr/lib/python3/dist-packages/urllib3/connectionpool.py?line=421'>422</a>\u001b[0m \u001b[39mexcept\u001b[39;00m (SocketTimeout, BaseSSLError, SocketError) \u001b[39mas\u001b[39;00m e:\n\u001b[1;32m    <a href='file:///usr/lib/python3/dist-packages/urllib3/connectionpool.py?line=422'>423</a>\u001b[0m     \u001b[39mself\u001b[39m\u001b[39m.\u001b[39m_raise_timeout(err\u001b[39m=\u001b[39me, url\u001b[39m=\u001b[39murl, timeout_value\u001b[39m=\u001b[39mread_timeout)\n",
      "File \u001b[0;32m<string>:3\u001b[0m, in \u001b[0;36mraise_from\u001b[0;34m(value, from_value)\u001b[0m\n",
      "File \u001b[0;32m/usr/lib/python3/dist-packages/urllib3/connectionpool.py:416\u001b[0m, in \u001b[0;36mHTTPConnectionPool._make_request\u001b[0;34m(self, conn, method, url, timeout, chunked, **httplib_request_kw)\u001b[0m\n\u001b[1;32m    <a href='file:///usr/lib/python3/dist-packages/urllib3/connectionpool.py?line=412'>413</a>\u001b[0m \u001b[39mexcept\u001b[39;00m \u001b[39mTypeError\u001b[39;00m:\n\u001b[1;32m    <a href='file:///usr/lib/python3/dist-packages/urllib3/connectionpool.py?line=413'>414</a>\u001b[0m     \u001b[39m# Python 3\u001b[39;00m\n\u001b[1;32m    <a href='file:///usr/lib/python3/dist-packages/urllib3/connectionpool.py?line=414'>415</a>\u001b[0m     \u001b[39mtry\u001b[39;00m:\n\u001b[0;32m--> <a href='file:///usr/lib/python3/dist-packages/urllib3/connectionpool.py?line=415'>416</a>\u001b[0m         httplib_response \u001b[39m=\u001b[39m conn\u001b[39m.\u001b[39;49mgetresponse()\n\u001b[1;32m    <a href='file:///usr/lib/python3/dist-packages/urllib3/connectionpool.py?line=416'>417</a>\u001b[0m     \u001b[39mexcept\u001b[39;00m \u001b[39mBaseException\u001b[39;00m \u001b[39mas\u001b[39;00m e:\n\u001b[1;32m    <a href='file:///usr/lib/python3/dist-packages/urllib3/connectionpool.py?line=417'>418</a>\u001b[0m         \u001b[39m# Remove the TypeError from the exception chain in\u001b[39;00m\n\u001b[1;32m    <a href='file:///usr/lib/python3/dist-packages/urllib3/connectionpool.py?line=418'>419</a>\u001b[0m         \u001b[39m# Python 3 (including for exceptions like SystemExit).\u001b[39;00m\n\u001b[1;32m    <a href='file:///usr/lib/python3/dist-packages/urllib3/connectionpool.py?line=419'>420</a>\u001b[0m         \u001b[39m# Otherwise it looks like a bug in the code.\u001b[39;00m\n\u001b[1;32m    <a href='file:///usr/lib/python3/dist-packages/urllib3/connectionpool.py?line=420'>421</a>\u001b[0m         six\u001b[39m.\u001b[39mraise_from(e, \u001b[39mNone\u001b[39;00m)\n",
      "File \u001b[0;32m/usr/lib/python3.9/http/client.py:1377\u001b[0m, in \u001b[0;36mHTTPConnection.getresponse\u001b[0;34m(self)\u001b[0m\n\u001b[1;32m   <a href='file:///usr/lib/python3.9/http/client.py?line=1374'>1375</a>\u001b[0m \u001b[39mtry\u001b[39;00m:\n\u001b[1;32m   <a href='file:///usr/lib/python3.9/http/client.py?line=1375'>1376</a>\u001b[0m     \u001b[39mtry\u001b[39;00m:\n\u001b[0;32m-> <a href='file:///usr/lib/python3.9/http/client.py?line=1376'>1377</a>\u001b[0m         response\u001b[39m.\u001b[39;49mbegin()\n\u001b[1;32m   <a href='file:///usr/lib/python3.9/http/client.py?line=1377'>1378</a>\u001b[0m     \u001b[39mexcept\u001b[39;00m \u001b[39mConnectionError\u001b[39;00m:\n\u001b[1;32m   <a href='file:///usr/lib/python3.9/http/client.py?line=1378'>1379</a>\u001b[0m         \u001b[39mself\u001b[39m\u001b[39m.\u001b[39mclose()\n",
      "File \u001b[0;32m/usr/lib/python3.9/http/client.py:320\u001b[0m, in \u001b[0;36mHTTPResponse.begin\u001b[0;34m(self)\u001b[0m\n\u001b[1;32m    <a href='file:///usr/lib/python3.9/http/client.py?line=317'>318</a>\u001b[0m \u001b[39m# read until we get a non-100 response\u001b[39;00m\n\u001b[1;32m    <a href='file:///usr/lib/python3.9/http/client.py?line=318'>319</a>\u001b[0m \u001b[39mwhile\u001b[39;00m \u001b[39mTrue\u001b[39;00m:\n\u001b[0;32m--> <a href='file:///usr/lib/python3.9/http/client.py?line=319'>320</a>\u001b[0m     version, status, reason \u001b[39m=\u001b[39m \u001b[39mself\u001b[39;49m\u001b[39m.\u001b[39;49m_read_status()\n\u001b[1;32m    <a href='file:///usr/lib/python3.9/http/client.py?line=320'>321</a>\u001b[0m     \u001b[39mif\u001b[39;00m status \u001b[39m!=\u001b[39m CONTINUE:\n\u001b[1;32m    <a href='file:///usr/lib/python3.9/http/client.py?line=321'>322</a>\u001b[0m         \u001b[39mbreak\u001b[39;00m\n",
      "File \u001b[0;32m/usr/lib/python3.9/http/client.py:281\u001b[0m, in \u001b[0;36mHTTPResponse._read_status\u001b[0;34m(self)\u001b[0m\n\u001b[1;32m    <a href='file:///usr/lib/python3.9/http/client.py?line=279'>280</a>\u001b[0m \u001b[39mdef\u001b[39;00m \u001b[39m_read_status\u001b[39m(\u001b[39mself\u001b[39m):\n\u001b[0;32m--> <a href='file:///usr/lib/python3.9/http/client.py?line=280'>281</a>\u001b[0m     line \u001b[39m=\u001b[39m \u001b[39mstr\u001b[39m(\u001b[39mself\u001b[39;49m\u001b[39m.\u001b[39;49mfp\u001b[39m.\u001b[39;49mreadline(_MAXLINE \u001b[39m+\u001b[39;49m \u001b[39m1\u001b[39;49m), \u001b[39m\"\u001b[39m\u001b[39miso-8859-1\u001b[39m\u001b[39m\"\u001b[39m)\n\u001b[1;32m    <a href='file:///usr/lib/python3.9/http/client.py?line=281'>282</a>\u001b[0m     \u001b[39mif\u001b[39;00m \u001b[39mlen\u001b[39m(line) \u001b[39m>\u001b[39m _MAXLINE:\n\u001b[1;32m    <a href='file:///usr/lib/python3.9/http/client.py?line=282'>283</a>\u001b[0m         \u001b[39mraise\u001b[39;00m LineTooLong(\u001b[39m\"\u001b[39m\u001b[39mstatus line\u001b[39m\u001b[39m\"\u001b[39m)\n",
      "File \u001b[0;32m/usr/lib/python3.9/socket.py:704\u001b[0m, in \u001b[0;36mSocketIO.readinto\u001b[0;34m(self, b)\u001b[0m\n\u001b[1;32m    <a href='file:///usr/lib/python3.9/socket.py?line=701'>702</a>\u001b[0m \u001b[39mwhile\u001b[39;00m \u001b[39mTrue\u001b[39;00m:\n\u001b[1;32m    <a href='file:///usr/lib/python3.9/socket.py?line=702'>703</a>\u001b[0m     \u001b[39mtry\u001b[39;00m:\n\u001b[0;32m--> <a href='file:///usr/lib/python3.9/socket.py?line=703'>704</a>\u001b[0m         \u001b[39mreturn\u001b[39;00m \u001b[39mself\u001b[39;49m\u001b[39m.\u001b[39;49m_sock\u001b[39m.\u001b[39;49mrecv_into(b)\n\u001b[1;32m    <a href='file:///usr/lib/python3.9/socket.py?line=704'>705</a>\u001b[0m     \u001b[39mexcept\u001b[39;00m timeout:\n\u001b[1;32m    <a href='file:///usr/lib/python3.9/socket.py?line=705'>706</a>\u001b[0m         \u001b[39mself\u001b[39m\u001b[39m.\u001b[39m_timeout_occurred \u001b[39m=\u001b[39m \u001b[39mTrue\u001b[39;00m\n",
      "File \u001b[0;32m/usr/lib/python3/dist-packages/urllib3/contrib/pyopenssl.py:313\u001b[0m, in \u001b[0;36mWrappedSocket.recv_into\u001b[0;34m(self, *args, **kwargs)\u001b[0m\n\u001b[1;32m    <a href='file:///usr/lib/python3/dist-packages/urllib3/contrib/pyopenssl.py?line=310'>311</a>\u001b[0m \u001b[39mdef\u001b[39;00m \u001b[39mrecv_into\u001b[39m(\u001b[39mself\u001b[39m, \u001b[39m*\u001b[39margs, \u001b[39m*\u001b[39m\u001b[39m*\u001b[39mkwargs):\n\u001b[1;32m    <a href='file:///usr/lib/python3/dist-packages/urllib3/contrib/pyopenssl.py?line=311'>312</a>\u001b[0m     \u001b[39mtry\u001b[39;00m:\n\u001b[0;32m--> <a href='file:///usr/lib/python3/dist-packages/urllib3/contrib/pyopenssl.py?line=312'>313</a>\u001b[0m         \u001b[39mreturn\u001b[39;00m \u001b[39mself\u001b[39;49m\u001b[39m.\u001b[39;49mconnection\u001b[39m.\u001b[39;49mrecv_into(\u001b[39m*\u001b[39;49margs, \u001b[39m*\u001b[39;49m\u001b[39m*\u001b[39;49mkwargs)\n\u001b[1;32m    <a href='file:///usr/lib/python3/dist-packages/urllib3/contrib/pyopenssl.py?line=313'>314</a>\u001b[0m     \u001b[39mexcept\u001b[39;00m OpenSSL\u001b[39m.\u001b[39mSSL\u001b[39m.\u001b[39mSysCallError \u001b[39mas\u001b[39;00m e:\n\u001b[1;32m    <a href='file:///usr/lib/python3/dist-packages/urllib3/contrib/pyopenssl.py?line=314'>315</a>\u001b[0m         \u001b[39mif\u001b[39;00m \u001b[39mself\u001b[39m\u001b[39m.\u001b[39msuppress_ragged_eofs \u001b[39mand\u001b[39;00m e\u001b[39m.\u001b[39margs \u001b[39m==\u001b[39m (\u001b[39m-\u001b[39m\u001b[39m1\u001b[39m, \u001b[39m\"\u001b[39m\u001b[39mUnexpected EOF\u001b[39m\u001b[39m\"\u001b[39m):\n",
      "File \u001b[0;32m/usr/lib/python3/dist-packages/OpenSSL/SSL.py:1821\u001b[0m, in \u001b[0;36mConnection.recv_into\u001b[0;34m(self, buffer, nbytes, flags)\u001b[0m\n\u001b[1;32m   <a href='file:///usr/lib/python3/dist-packages/OpenSSL/SSL.py?line=1818'>1819</a>\u001b[0m     result \u001b[39m=\u001b[39m _lib\u001b[39m.\u001b[39mSSL_peek(\u001b[39mself\u001b[39m\u001b[39m.\u001b[39m_ssl, buf, nbytes)\n\u001b[1;32m   <a href='file:///usr/lib/python3/dist-packages/OpenSSL/SSL.py?line=1819'>1820</a>\u001b[0m \u001b[39melse\u001b[39;00m:\n\u001b[0;32m-> <a href='file:///usr/lib/python3/dist-packages/OpenSSL/SSL.py?line=1820'>1821</a>\u001b[0m     result \u001b[39m=\u001b[39m _lib\u001b[39m.\u001b[39;49mSSL_read(\u001b[39mself\u001b[39;49m\u001b[39m.\u001b[39;49m_ssl, buf, nbytes)\n\u001b[1;32m   <a href='file:///usr/lib/python3/dist-packages/OpenSSL/SSL.py?line=1821'>1822</a>\u001b[0m \u001b[39mself\u001b[39m\u001b[39m.\u001b[39m_raise_ssl_error(\u001b[39mself\u001b[39m\u001b[39m.\u001b[39m_ssl, result)\n\u001b[1;32m   <a href='file:///usr/lib/python3/dist-packages/OpenSSL/SSL.py?line=1823'>1824</a>\u001b[0m \u001b[39m# This strange line is all to avoid a memory copy. The buffer protocol\u001b[39;00m\n\u001b[1;32m   <a href='file:///usr/lib/python3/dist-packages/OpenSSL/SSL.py?line=1824'>1825</a>\u001b[0m \u001b[39m# should allow us to assign a CFFI buffer to the LHS of this line, but\u001b[39;00m\n\u001b[1;32m   <a href='file:///usr/lib/python3/dist-packages/OpenSSL/SSL.py?line=1825'>1826</a>\u001b[0m \u001b[39m# on CPython 3.3+ that segfaults. As a workaround, we can temporarily\u001b[39;00m\n\u001b[1;32m   <a href='file:///usr/lib/python3/dist-packages/OpenSSL/SSL.py?line=1826'>1827</a>\u001b[0m \u001b[39m# wrap it in a memoryview.\u001b[39;00m\n",
      "\u001b[0;31mKeyboardInterrupt\u001b[0m: "
     ]
    }
   ],
   "source": [
    "\n",
    "for _ in tqdm(range(200)):\n",
    "    \n",
    "    response = requests.get(url = hy_url)\n",
    "    cur_url = response.url\n",
    "    if cur_url in mem:\n",
    "        continue\n",
    "    mem.add(cur_url)\n",
    "    soup = BeautifulSoup(response.content,'html.parser')\n",
    "\n",
    "   # print(response.status_code)\n",
    "    Title = soup.find( id=\"firstHeading\")\n",
    "\n",
    "    text = soup.find(id = \"bodyContent\").find_all(\"p\")#.find(\"a\")\n",
    "    #print(len(text))\n",
    "   # print(response.url)\n",
    "    for each in text:\n",
    "        if len(each.text)<100:\n",
    "           continue\n",
    "        clean_text = Text_Cleaning(each.text)\n",
    "        # print(each.text)\n",
    "        # print(\"now clean one\")\n",
    "        # print(clean_text)\n",
    "        token += clean_text\n",
    "        if len(clean_text)<2 or len(each.text)/len(clean_text) > opt_treshold:\n",
    "            continue\n",
    "        with open('../Data/Scraped/wiki_data_3.txt','a') as f:\n",
    "            for each_sent in clean_text.split('։'):\n",
    "                if len(each_sent)<3:\n",
    "                    continue\n",
    "                # print(each_sent)\n",
    "                break_spaces = each_sent.strip()\n",
    "         #       break_spaces = \" \".join(break_spaces.split(\" \"))\n",
    "                f.write(\"%s:\\n\" % break_spaces.replace(\"\\n\",\"\").lstrip())\n",
    "    \n",
    " "
   ]
  },
  {
   "cell_type": "code",
   "execution_count": 6,
   "metadata": {},
   "outputs": [
    {
     "data": {
      "text/plain": [
       "['tensorflow_model1_load.py',\n",
       " 'scrape_scratch.py',\n",
       " 'load_small.py',\n",
       " 'tensorflow_approach2.py',\n",
       " 'testXLM-R.ipynb',\n",
       " 'kaggle_help.py',\n",
       " '.ipynb_checkpoints',\n",
       " 'transformer_scratch.py',\n",
       " 'torch_test',\n",
       " 'ArmScraping.py',\n",
       " 'tf_first_onsmall.py',\n",
       " 'a.py',\n",
       " 'bert_model_test.py',\n",
       " 'simple_on_data3.py',\n",
       " '__pycache__',\n",
       " 'new_model_found.py',\n",
       " 'scrape_scratch.ipynb']"
      ]
     },
     "execution_count": 6,
     "metadata": {},
     "output_type": "execute_result"
    }
   ],
   "source": [
    "import os\n",
    "os.listdir()"
   ]
  },
  {
   "cell_type": "code",
   "execution_count": null,
   "metadata": {},
   "outputs": [],
   "source": []
  }
 ],
 "metadata": {
  "interpreter": {
   "hash": "36cf16204b8548560b1c020c4e8fb5b57f0e4c58016f52f2d4be01e192833930"
  },
  "kernelspec": {
   "display_name": "Python 3.9.12 64-bit",
   "language": "python",
   "name": "python3"
  },
  "language_info": {
   "codemirror_mode": {
    "name": "ipython",
    "version": 3
   },
   "file_extension": ".py",
   "mimetype": "text/x-python",
   "name": "python",
   "nbconvert_exporter": "python",
   "pygments_lexer": "ipython3",
   "version": "3.9.12"
  },
  "orig_nbformat": 4
 },
 "nbformat": 4,
 "nbformat_minor": 2
}
